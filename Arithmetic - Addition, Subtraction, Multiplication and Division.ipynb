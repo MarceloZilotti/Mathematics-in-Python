{
 "cells": [
  {
   "cell_type": "code",
   "execution_count": 10,
   "id": "455125f9-b6de-4eec-afe7-773bb1601201",
   "metadata": {},
   "outputs": [],
   "source": [
    "#o Jupyter Notebook (ao executar código em Python) respeita rigorosamente a ordem das operações aritméticas, conhecida como PEMDAS (ou BODMAS em alguns países):\n",
    "\n",
    "#PEMDAS:\n",
    "\n",
    "# 1.Parentheses (Parênteses)\n",
    "\n",
    "# 2.Exponents (Expoentes)\n",
    "\n",
    "# 3.Multiplication and Division (Multiplicação e Divisão, da esquerda para a direita)\n",
    "\n",
    "# 4.Addition and Subtraction (Adição e Subtração, da esquerda para a direita).\n",
    "\n"
   ]
  },
  {
   "cell_type": "code",
   "execution_count": null,
   "id": "778cae37-3dae-4769-b494-d32823ecceef",
   "metadata": {},
   "outputs": [],
   "source": [
    "#O nome desse símbolo \\ é backslash (barra invertida) e o nome desse símbolo / é forward slash."
   ]
  },
  {
   "cell_type": "code",
   "execution_count": 5,
   "id": "4070bf23-951c-4b35-be8b-f088f69c967d",
   "metadata": {},
   "outputs": [
    {
     "data": {
      "text/plain": [
       "4.7"
      ]
     },
     "execution_count": 5,
     "metadata": {},
     "output_type": "execute_result"
    }
   ],
   "source": [
    "5-(2/4)*(3/5)\n"
   ]
  },
  {
   "cell_type": "code",
   "execution_count": 7,
   "id": "6193522b-3961-4ae5-bae2-939f0e684849",
   "metadata": {},
   "outputs": [
    {
     "data": {
      "text/plain": [
       "-0.030303030303030304"
      ]
     },
     "execution_count": 7,
     "metadata": {},
     "output_type": "execute_result"
    }
   ],
   "source": [
    "(4-5)/(3+(5*6))\n"
   ]
  },
  {
   "cell_type": "code",
   "execution_count": null,
   "id": "9b92518e-f7e3-45e8-8c18-443442df5d22",
   "metadata": {},
   "outputs": [],
   "source": []
  }
 ],
 "metadata": {
  "kernelspec": {
   "display_name": "Python 3 (ipykernel)",
   "language": "python",
   "name": "python3"
  },
  "language_info": {
   "codemirror_mode": {
    "name": "ipython",
    "version": 3
   },
   "file_extension": ".py",
   "mimetype": "text/x-python",
   "name": "python",
   "nbconvert_exporter": "python",
   "pygments_lexer": "ipython3",
   "version": "3.12.7"
  }
 },
 "nbformat": 4,
 "nbformat_minor": 5
}
